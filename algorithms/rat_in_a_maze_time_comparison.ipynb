{
  "nbformat": 4,
  "nbformat_minor": 0,
  "metadata": {
    "colab": {
      "name": "rat_in_a_maze_time_comparison.ipynb",
      "provenance": []
    },
    "kernelspec": {
      "name": "python3",
      "display_name": "Python 3"
    },
    "language_info": {
      "name": "python"
    }
  },
  "cells": [
    {
      "cell_type": "markdown",
      "metadata": {
        "id": "gDybQ0TnECNm"
      },
      "source": [
        "* Considero aqui que o programa nao tem entradas, apenas duas definições iniciais:\n",
        "  1.   O tamanho N do labirinto (considero que ele sempre será quadrado)\n",
        "  2.   O labirinto (1 sendo passagem e 0 sendo parede)\n",
        "\n",
        "* a entrada do labirinto sempre será na linha 0 e coluna 0 e \n",
        "\n",
        "* a saída do labirinto sempre será na linha N-1 e coluna N-1"
      ]
    },
    {
      "cell_type": "code",
      "metadata": {
        "id": "AQtHmpT1PKmX"
      },
      "source": [
        "from operator import attrgetter\n",
        "import time\n",
        "import numpy as np"
      ],
      "execution_count": 1,
      "outputs": []
    },
    {
      "cell_type": "markdown",
      "metadata": {
        "id": "5l-56WD17HjY"
      },
      "source": [
        "Para podermos ver diferenças significativas é necessário um labirinto de grandes dimensões\n",
        "\n",
        "Aqui é definido um labirinto de 20x20"
      ]
    },
    {
      "cell_type": "code",
      "metadata": {
        "id": "dyOnFQDnHIko"
      },
      "source": [
        "N = 20\n",
        "\n",
        "maze = [\n",
        "        [1, 1, 0, 1, 1, 1, 1, 0, 1, 1, 1, 1, 0, 1, 1, 1, 1, 0, 1, 1],\n",
        "        [1, 1, 0, 1, 1, 1, 1, 0, 1, 1, 1, 1, 0, 1, 1, 1, 1, 0, 1, 1],\n",
        "        [1, 1, 1, 0, 1, 1, 1, 0, 1, 1, 1, 1, 0, 1, 1, 1, 1, 0, 1, 1],\n",
        "        [1, 1, 1, 1, 0, 1, 1, 0, 1, 1, 1, 1, 0, 1, 1, 1, 1, 0, 1, 1],\n",
        "        [1, 1, 1, 1, 1, 1, 1, 0, 1, 1, 1, 1, 0, 1, 1, 1, 1, 0, 1, 1],\n",
        "        [1, 1, 0, 1, 1, 1, 1, 0, 1, 1, 1, 1, 0, 1, 1, 1, 1, 0, 1, 1],\n",
        "        [1, 1, 0, 1, 1, 1, 1, 0, 1, 1, 1, 1, 0, 1, 1, 1, 1, 0, 1, 1],\n",
        "        [1, 1, 1, 0, 1, 1, 1, 0, 1, 1, 1, 1, 0, 1, 1, 1, 1, 0, 1, 1],\n",
        "        [1, 1, 1, 1, 0, 1, 1, 0, 1, 1, 1, 1, 0, 1, 1, 1, 1, 0, 1, 1],\n",
        "        [1, 1, 1, 1, 1, 1, 1, 0, 1, 1, 1, 1, 0, 1, 1, 1, 1, 0, 1, 1],\n",
        "        [1, 1, 0, 1, 1, 1, 1, 0, 1, 1, 1, 1, 0, 1, 1, 1, 1, 0, 1, 1],\n",
        "        [1, 1, 0, 1, 1, 1, 1, 0, 1, 1, 1, 1, 0, 1, 1, 1, 1, 0, 1, 1],\n",
        "        [1, 1, 1, 0, 1, 1, 1, 0, 1, 1, 1, 1, 0, 1, 1, 1, 1, 0, 1, 1],\n",
        "        [1, 1, 1, 1, 0, 1, 1, 0, 1, 1, 1, 1, 0, 1, 1, 1, 1, 0, 1, 1],\n",
        "        [1, 1, 1, 1, 1, 1, 1, 0, 1, 1, 1, 1, 0, 1, 1, 1, 1, 0, 1, 1],\n",
        "        [1, 1, 0, 1, 1, 1, 1, 0, 1, 1, 1, 1, 0, 1, 1, 1, 1, 0, 1, 1],\n",
        "        [1, 1, 0, 1, 1, 1, 1, 0, 1, 1, 1, 1, 0, 1, 1, 1, 1, 0, 1, 1],\n",
        "        [1, 1, 1, 0, 1, 1, 1, 0, 1, 1, 1, 1, 0, 1, 1, 1, 1, 0, 1, 1],\n",
        "        [1, 1, 1, 1, 1, 1, 1, 1, 1, 1, 1, 1, 0, 1, 1, 1, 1, 0, 1, 1],\n",
        "        [1, 1, 1, 1, 1, 1, 1, 0, 1, 1, 1, 1, 1, 1, 1, 1, 1, 1, 1, 1],\n",
        "]"
      ],
      "execution_count": 2,
      "outputs": []
    },
    {
      "cell_type": "markdown",
      "metadata": {
        "id": "X0Df3BL-uxih"
      },
      "source": [
        "#A* Version"
      ]
    },
    {
      "cell_type": "code",
      "metadata": {
        "id": "GMYTW9ttGOfs"
      },
      "source": [
        "class Position:\n",
        "  def __init__(self, i, j, N):\n",
        "    self.i = i\n",
        "    self.j = j\n",
        "    self.h = 2*N - 2 - i - j\n",
        "    self.g = i+j\n",
        "    self.f = self.h + self.g\n",
        "    self.dad = self\n",
        "\n",
        "  def set_dad(self, dad):\n",
        "    self.dad = dad\n"
      ],
      "execution_count": 3,
      "outputs": []
    },
    {
      "cell_type": "code",
      "metadata": {
        "id": "1S0PI2vjK0w9"
      },
      "source": [
        "def check_neighbors(position, maze, opened, closed, visited, N):\n",
        "  i = position.i\n",
        "  j = position.j\n",
        "\n",
        "  if i == N-1 and (j+1) == N-1:\n",
        "    new_position = Position(i, j+1, N)\n",
        "    new_position.set_dad(position)\n",
        "    opened.append([i, j+1])\n",
        "    visited.append(new_position)\n",
        "    return True\n",
        " \n",
        "  if (i+1) == N-1 and j == N-1:\n",
        "    new_position = Position(i+1, j, N)\n",
        "    new_position.set_dad(position)\n",
        "    opened.append([i+1, j])\n",
        "    visited.append(new_position)\n",
        "    return True\n",
        "\n",
        "  if j+1 < N:  \n",
        "    if maze[i][j + 1] == 1 and [i, j+1] not in opened and [i, j+1] not in closed:\n",
        "      new_position = Position(i, j+1, N)\n",
        "      new_position.set_dad(position)\n",
        "      opened.append([i, j+1])\n",
        "      visited.append(new_position)\n",
        "\n",
        "  if i+1 < N:\n",
        "    if maze[i+1][j] == 1 and [i+1, j] not in opened and [i+1, j] not in closed:\n",
        "      new_position = Position(i+1, j, N)\n",
        "      new_position.set_dad(position)\n",
        "      opened.append([i+1, j])\n",
        "      visited.append(new_position)\n",
        "\n",
        "  if j-1 > 0:  \n",
        "    if maze[i][j - 1] == 1 and [i, j-1] not in opened and [i, j-1] not in closed:\n",
        "      new_position = Position(i, j-1, N)\n",
        "      new_position.set_dad(position)\n",
        "      opened.append([i, j-1])\n",
        "      visited.append(new_position)\n",
        "\n",
        "  if i-1 > 0:\n",
        "    if maze[i-1][j] == 1 and [i-1, j] not in opened and [i-1, j] not in closed:\n",
        "      new_position = Position(i-1, j, N)\n",
        "      new_position.set_dad(position)\n",
        "      opened.append([i-1, j])\n",
        "      visited.append(new_position)\n",
        "\n",
        "  return False"
      ],
      "execution_count": 4,
      "outputs": []
    },
    {
      "cell_type": "code",
      "metadata": {
        "id": "VdsUjmOpSBQc"
      },
      "source": [
        "def print_reverse_path(to_be_visited):\n",
        "  last = to_be_visited.pop()\n",
        "\n",
        "  while last.dad != last:\n",
        "    print(last.i, last.j)\n",
        "    last = last.dad\n",
        "  print('0 0')"
      ],
      "execution_count": 5,
      "outputs": []
    },
    {
      "cell_type": "code",
      "metadata": {
        "colab": {
          "base_uri": "https://localhost:8080/"
        },
        "id": "GbxTmaUvF3Pi",
        "outputId": "6ba0cdc9-735f-4e05-eb9f-ea427e81e68f"
      },
      "source": [
        "closed = []\n",
        "opened = []\n",
        "to_be_visited = []\n",
        "\n",
        "end = False\n",
        "\n",
        "initial_position = Position(i=0, j=0, N=N)\n",
        "opened.append([0, 0])\n",
        "to_be_visited.append(initial_position)\n",
        "\n",
        "start = time.time()\n",
        "while len(opened) > 0:\n",
        "  to_be_visited = sorted(to_be_visited, key=attrgetter('h'))\n",
        "  position = to_be_visited.pop(0)\n",
        "  if check_neighbors(position, maze, opened, closed, to_be_visited, N):\n",
        "    end = time.time()\n",
        "    print('Caminho encontrado')\n",
        "    #print_reverse_path(to_be_visited)\n",
        "    break \n",
        "  opened.remove([position.i, position.j])\n",
        "  closed.append([position.i, position.j])\n",
        "\n",
        "\n",
        "print()\n",
        "print(\"Tempo de execução: \" + str(end-start))"
      ],
      "execution_count": 6,
      "outputs": [
        {
          "output_type": "stream",
          "text": [
            "Caminho encontrado\n",
            "\n",
            "Tempo de execução: 0.0009605884552001953\n"
          ],
          "name": "stdout"
        }
      ]
    },
    {
      "cell_type": "markdown",
      "metadata": {
        "id": "w8dKE93cu4gv"
      },
      "source": [
        "# Traditional Version"
      ]
    },
    {
      "cell_type": "code",
      "metadata": {
        "id": "L8LZFE5R1ujJ"
      },
      "source": [
        "def valid(x, y):\n",
        "  global N\n",
        "\n",
        "  if x<N and x>=0 and y<N and y>=0 and maze[x][y]==1 and sol[x][y]==0:\n",
        "    return True"
      ],
      "execution_count": 7,
      "outputs": []
    },
    {
      "cell_type": "code",
      "metadata": {
        "id": "5D2WTSzPvAcW"
      },
      "source": [
        "def findPath(x, y):\n",
        "  global N\n",
        "  global sol\n",
        "  global moves\n",
        "\n",
        "  q = []\n",
        "  q.append([x, y])\n",
        "  sol[x][y] = 1\n",
        "\n",
        "  while len(q)>0:\n",
        "    pair = q.pop()\n",
        "    if pair[0] == N-1 and pair[1] == N-1 and maze[pair[0]][pair[1]] == 1:\n",
        "      return True\n",
        "\n",
        "    for i in range(0, 4):\n",
        "      nx = pair[0] + moves[i][0]\n",
        "      ny = pair[1] + moves[i][1]\n",
        "\n",
        "      if valid(nx, ny):\n",
        "        sol[nx][ny]=1\n",
        "        q.append([nx, ny])\n",
        "\n",
        "  return False\n"
      ],
      "execution_count": 8,
      "outputs": []
    },
    {
      "cell_type": "code",
      "metadata": {
        "colab": {
          "base_uri": "https://localhost:8080/"
        },
        "id": "hNJHayUX2kv8",
        "outputId": "ba3e4733-c93a-485b-b5e2-3d2ff851ecbd"
      },
      "source": [
        "sol = []\n",
        "\n",
        "for i in range(0, N):\n",
        "  sol.append(np.zeros(N))\n",
        "\n",
        "moves = [[1, 0],\n",
        "         [0, 1],\n",
        "         [-1, 0],\n",
        "         [0, -1]]\n",
        "\n",
        "start = time.time()\n",
        "if findPath(0, 0):\n",
        "  end = time.time()\n",
        "  print(\"Encontrei um caminho\")\n",
        "else: \n",
        "  print(\"Nao existe um caminho para este caso\")\n",
        "\n",
        "#for i in range(0, N):\n",
        "#  print(sol[i])\n",
        "\n",
        "print(\"Tempo de execução: \" + str(end-start))"
      ],
      "execution_count": 9,
      "outputs": [
        {
          "output_type": "stream",
          "text": [
            "Encontrei um caminho\n",
            "Tempo de execução: 0.002114534378051758\n"
          ],
          "name": "stdout"
        }
      ]
    }
  ]
}