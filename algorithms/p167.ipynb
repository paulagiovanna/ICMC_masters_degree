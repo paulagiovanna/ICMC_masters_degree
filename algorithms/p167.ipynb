{
  "nbformat": 4,
  "nbformat_minor": 0,
  "metadata": {
    "colab": {
      "name": "p167.ipynb",
      "provenance": [],
      "collapsed_sections": []
    },
    "kernelspec": {
      "name": "python3",
      "display_name": "Python 3"
    },
    "language_info": {
      "name": "python"
    }
  },
  "cells": [
    {
      "cell_type": "code",
      "metadata": {
        "id": "A5mMgR3rBvg3"
      },
      "source": [
        "#Função que valida se a rainha pode ocupar determinada linha e coluna\n",
        "def valido(line, column):\n",
        "  global lines\n",
        "\n",
        "  for i in range(0, column):\n",
        "    if lines[i]==line or (abs(lines[i]-line)==abs(i-column)):\n",
        "      return False\n",
        "  return True"
      ],
      "execution_count": 1,
      "outputs": []
    },
    {
      "cell_type": "code",
      "metadata": {
        "id": "9_Tq0IctCJm7"
      },
      "source": [
        "def backtracking(board, c):\n",
        "  global lines\n",
        "  global max\n",
        "  global best_score\n",
        "\n",
        "  #Caso as oito rainhas já tenham sido encontradas, contabiliza o score e \n",
        "  #compara com o melhor achado até o momento\n",
        "  if c == max:\n",
        "    score = 0\n",
        "    for line in lines:\n",
        "      score = score+board[int(line)][list(lines).index(line)]\n",
        "    if score> best_score:\n",
        "      best_score=score\n",
        "  #Caso não tenham sido achadas ainda, encontra um local para a próxima rainha e\n",
        "  #chama a função novamente \n",
        "  else:\n",
        "    for line in range(0, max):\n",
        "      if valido(line, c):\n",
        "        lines[c] = line\n",
        "        backtracking(board, c+1)"
      ],
      "execution_count": 2,
      "outputs": []
    },
    {
      "cell_type": "code",
      "metadata": {
        "colab": {
          "base_uri": "https://localhost:8080/"
        },
        "id": "kec3rcY7kJUP",
        "outputId": "025498f6-023f-41a1-ad44-6f453ae9e726"
      },
      "source": [
        "import numpy as np\n",
        "\n",
        "#Quantidade de rainhas\n",
        "max = 8\n",
        "#Quantidade de tabuleiros a serem testados\n",
        "qt_boards = int(input())\n",
        "\n",
        "#Para cada tabuleiro inicializa as variaveis\n",
        "for i in range(0, qt_boards):\n",
        "  board = []  \n",
        "  lines = np.zeros(max)\n",
        "  best_score = 0\n",
        "\n",
        "  #Constrói o tabuleiro\n",
        "  for i in range(0, 8):\n",
        "    board.append([int(x) for x in input().split()])\n",
        "\n",
        "  #Chama a função de backtracking\n",
        "  backtracking(board, 0)\n",
        "  \n",
        "  print(\"{:5}\".format(best_score))"
      ],
      "execution_count": 3,
      "outputs": [
        {
          "output_type": "stream",
          "text": [
            "1\n",
            "1 2 3 4 5 6 7 8\n",
            "9 10 11 12 13 14 15 16\n",
            "17 18 19 20 21 22 23 24\n",
            "25 26 27 28 29 30 31 32\n",
            "33 34 35 36 37 38 39 40\n",
            "41 42 43 44 45 46 47 48\n",
            "48 50 51 52 53 54 55 56\n",
            "57 58 59 60 61 62 63 64\n",
            "  260\n"
          ],
          "name": "stdout"
        }
      ]
    },
    {
      "cell_type": "code",
      "metadata": {
        "colab": {
          "base_uri": "https://localhost:8080/"
        },
        "id": "H5iG3iNVHjYs",
        "outputId": "31f054c6-794c-4a57-a529-67efa38c93cf"
      },
      "source": [
        ""
      ],
      "execution_count": 9,
      "outputs": [
        {
          "output_type": "stream",
          "text": [
            "Espaço total ocupado:     0 MB\n"
          ],
          "name": "stdout"
        }
      ]
    }
  ]
}