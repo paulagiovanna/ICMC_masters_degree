{
  "nbformat": 4,
  "nbformat_minor": 0,
  "metadata": {
    "colab": {
      "name": "p10986.ipynb",
      "provenance": []
    },
    "kernelspec": {
      "name": "python3",
      "display_name": "Python 3"
    },
    "language_info": {
      "name": "python"
    }
  },
  "cells": [
    {
      "cell_type": "code",
      "metadata": {
        "id": "JkkT-rMfkaL6"
      },
      "source": [
        "from queue import PriorityQueue\n",
        "\n",
        "def dijkstra(G, s):\n",
        "  distance = [float('inf') for i in range(0, len(G))]\n",
        "  distance[s] = 0\n",
        "  queue = PriorityQueue()\n",
        "  queue.put(s, 0)\n",
        "\n",
        "  while not queue.empty():\n",
        "    u = queue.get()\n",
        "    dist = distance[u]    \n",
        "    if dist > distance[u]:\n",
        "      continue\n",
        "\n",
        "    for v in G[u]:\n",
        "      if distance[u] + v[1] < distance[v[0]]:\n",
        "        queue.put(v[0], distance[u] + v[1])\n",
        "        distance[v[0]] = distance[u] + v[1]\n",
        "\n",
        "\n",
        "  return distance"
      ],
      "execution_count": 50,
      "outputs": []
    },
    {
      "cell_type": "code",
      "metadata": {
        "colab": {
          "base_uri": "https://localhost:8080/"
        },
        "id": "uKfkZFsK-Qxl",
        "outputId": "2c08e78a-bc7e-46de-c1fb-96ab5479e1fd"
      },
      "source": [
        "qt_tests = int(input())\n",
        "\n",
        "for i in range(1, qt_tests+1):\n",
        "  input()\n",
        "  infos = [int(k) for k in input().split()]\n",
        "  nodes = infos[0]\n",
        "  edges = infos[1]\n",
        "  s = infos[2]\n",
        "  t = infos[3]\n",
        "  G = [[] for k in range(0, nodes)]\n",
        "  \n",
        "  for j in range(0, edges):\n",
        "    edge = [int(k) for k in input().split()]\n",
        "    G[edge[0]].append([edge[1], edge[2]])\n",
        "    G[edge[1]].append([edge[0], edge[2]])\n",
        "  \n",
        "  distance = dijkstra(G, s)[t]\n",
        "\n",
        "  if distance == float('inf'):\n",
        "    print('Case #'+str(i)+': unreachable')\n",
        "  else:\n",
        "    print('Case #'+str(i)+':', distance)\n"
      ],
      "execution_count": 65,
      "outputs": [
        {
          "output_type": "stream",
          "text": [
            "3\n",
            "2 1 0 1\n",
            "0 1 100\n",
            "Case #1: 100\n",
            "3 3 2 0\n",
            "0 1 100\n",
            "0 2 200\n",
            "1 2 50\n",
            "Case #2: 150\n",
            "2 0 0 1\n",
            "Case #3: unreachable\n"
          ],
          "name": "stdout"
        }
      ]
    }
  ]
}