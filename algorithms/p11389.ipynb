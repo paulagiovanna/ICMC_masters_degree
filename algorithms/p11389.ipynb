{
  "nbformat": 4,
  "nbformat_minor": 0,
  "metadata": {
    "colab": {
      "name": "bus_drivers_problem.ipynb",
      "provenance": []
    },
    "kernelspec": {
      "name": "python3",
      "display_name": "Python 3"
    },
    "language_info": {
      "name": "python"
    }
  },
  "cells": [
    {
      "cell_type": "code",
      "metadata": {
        "colab": {
          "base_uri": "https://localhost:8080/"
        },
        "id": "436W3vckwcxk",
        "outputId": "decae8b3-c847-4708-85a8-bd82c0edaf05"
      },
      "source": [
        "#Pega a primeira linha para poder dar inicio no while\n",
        "general_information = [int(x) for x in input().split()]\n",
        "\n",
        "while general_information[0]>0:\n",
        "  #Faz a lista das rotas matutinas\n",
        "  morning_routes = [int(x) for x in input().split()]\n",
        "  #Faz a lista das rotas noturnas\n",
        "  evening_routes = [int(x) for x in input().split()]\n",
        "\n",
        "  #Separa as variáveis de acordo com o especificado no problema\n",
        "  qt_bus_drivers = general_information[0]\n",
        "  route_length = general_information[1]\n",
        "  payment_overtime = general_information[2]\n",
        "\n",
        "  #Se alguma linha veio incompleta preenche com 0 \n",
        "  #Tanto para as rotas matutinas quanto para as rotas noturnas\n",
        "  #Ordena as rotas matutinas de forma crescente\n",
        "  #E as noturnas de forma decrescente\n",
        "  #Afim de garantir o melhor balanceamento possível. \n",
        "  if qt_bus_drivers > len(morning_routes):\n",
        "    morning_routes += [0 for x in range(0, (qt_bus_drivers-morning_routes))]\n",
        "  morning_routes.sort()\n",
        "\n",
        "  if qt_bus_drivers > len(evening_routes):\n",
        "    evening_routes += [0 for x in range(0, (qt_bus_drivers-evening_routes))]\n",
        "  evening_routes.sort(reverse=True)\n",
        "\n",
        "\n",
        "  #Inicia o vetor que vai contabilizar as rotas por motorista \n",
        "  bus_drivers_routes = []\n",
        "\n",
        "  #Seta cada rota matutina para cada motorista de forma crescente por causa da\n",
        "  #ordenação prévia e soma com a noturna que está ordenada de forma decrescente.\n",
        "  for route in morning_routes:\n",
        "    bus_drivers_routes.append(route)\n",
        "  \n",
        "  for driver, route in enumerate(evening_routes):\n",
        "    bus_drivers_routes[driver] += route\n",
        "\n",
        "  #Nesse bloco calcula-se quanto a empresa irá gastar com os pagamentos extras. \n",
        "  #Multiplica-se o valor excedente pela peso passado no inicio.\n",
        "  amount_to_pay = 0\n",
        "  for qt_routes_driver in bus_drivers_routes:\n",
        "    if qt_routes_driver>route_length:\n",
        "      amount_to_pay += (qt_routes_driver-route_length)*payment_overtime\n",
        "\n",
        "  #Printa a saída\n",
        "  print(amount_to_pay)\n",
        "\n",
        "  #Recomeça o processo caso a linha não seja 0 0 0.\n",
        "  general_information = [int(x) for x in input().split()]"
      ],
      "execution_count": 2,
      "outputs": [
        {
          "output_type": "stream",
          "text": [
            "2 20 5\n",
            "10 15\n",
            "10 15\n",
            "50\n",
            "2 20 5\n",
            "10 10\n",
            "10 10\n",
            "0\n",
            "0 0 0\n"
          ],
          "name": "stdout"
        }
      ]
    }
  ]
}