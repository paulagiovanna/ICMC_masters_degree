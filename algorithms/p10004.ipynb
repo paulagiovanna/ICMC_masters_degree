{
  "nbformat": 4,
  "nbformat_minor": 0,
  "metadata": {
    "colab": {
      "name": "p10004.ipynb",
      "provenance": []
    },
    "kernelspec": {
      "name": "python3",
      "display_name": "Python 3"
    },
    "language_info": {
      "name": "python"
    }
  },
  "cells": [
    {
      "cell_type": "code",
      "metadata": {
        "id": "wmKqih7KLy7l"
      },
      "source": [
        "def bicolored(G):\n",
        "  nodes_color = [-1 for i in range(0, len(G))]\n",
        "  queue = []\n",
        "  queue.append(0)\n",
        "  color = 0\n",
        "  while len(queue)>0:\n",
        "    i = queue.pop(0)\n",
        "    if nodes_color[i] == -1:\n",
        "      nodes_color[i] = color   \n",
        "    if color == 0:\n",
        "      color = 1\n",
        "    else:\n",
        "      color = 0\n",
        "\n",
        "    for node in G[i]:\n",
        "      if nodes_color[node] == -1:\n",
        "        queue.append(node)\n",
        "        nodes_color[node] = color\n",
        "      else:\n",
        "        if nodes_color[node] == nodes_color[i]:\n",
        "          return False\n",
        "\n",
        "  return True"
      ],
      "execution_count": 12,
      "outputs": []
    },
    {
      "cell_type": "code",
      "metadata": {
        "colab": {
          "base_uri": "https://localhost:8080/"
        },
        "id": "c7E-231bNkt_",
        "outputId": "12ec4033-6dbb-4205-cd63-64f4b050c5da"
      },
      "source": [
        "qt_nodes = int(input())\n",
        "\n",
        "while qt_nodes!=0:\n",
        "  qt_edges = int(input())\n",
        "  G = [[] for i in range(0, qt_nodes)]\n",
        "\n",
        "  for i in range(0, qt_edges):\n",
        "    edge = [int(i) for i in input().split()]\n",
        "    G[edge[0]].append(edge[1])\n",
        "    G[edge[1]].append(edge[0])\n",
        "  \n",
        "  \n",
        "  if bicolored(G):\n",
        "    print('BICOLORABLE.')\n",
        "  else:\n",
        "    print('NOT BICOLORABLE.')\n",
        "    \n",
        "  qt_nodes = int(input())"
      ],
      "execution_count": 13,
      "outputs": [
        {
          "output_type": "stream",
          "text": [
            "3\n",
            "2\n",
            "0 1\n",
            "1 2\n",
            "[0]\n",
            "[1]\n",
            "[2]\n",
            "BICOLORABLE.\n",
            "0\n"
          ],
          "name": "stdout"
        }
      ]
    }
  ]
}