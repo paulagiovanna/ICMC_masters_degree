{
  "nbformat": 4,
  "nbformat_minor": 0,
  "metadata": {
    "colab": {
      "name": "stable_marriage.ipynb",
      "provenance": [],
      "collapsed_sections": []
    },
    "kernelspec": {
      "name": "python3",
      "display_name": "Python 3"
    },
    "language_info": {
      "name": "python"
    }
  },
  "cells": [
    {
      "cell_type": "markdown",
      "metadata": {
        "id": "CNMl1s1t72gA"
      },
      "source": [
        "Funções"
      ]
    },
    {
      "cell_type": "code",
      "metadata": {
        "id": "CswKJwnqALHu"
      },
      "source": [
        "#------------------------------------------------------------------------------------#\n",
        "#Função criada para auxiliar nos casamentos\n",
        "#Entradas: \n",
        "#---- women_list: Dicionário das mulheres\n",
        "#---- men_list: Dicionário dos homens\n",
        "#---- man: Nome do homem que vai casar\n",
        "#---- woman: Nome da mulher que vai casar\n",
        "#Saída:\n",
        "#---- Não há saídas a função altera:\n",
        "#-------- O campo 'status' para com quem se casou\n",
        "#------------------------------------------------------------------------------------#\n",
        "\n",
        "def marry(women_list, men_list, man, woman):\n",
        "  women_list[woman]['status'] = man\n",
        "  men_list[man]['status'] = woman\n",
        "  "
      ],
      "execution_count": null,
      "outputs": []
    },
    {
      "cell_type": "code",
      "metadata": {
        "id": "pGsZwlK3AiNQ"
      },
      "source": [
        "#------------------------------------------------------------------------------------#\n",
        "#Função criada para fazer o casamento estável\n",
        "#Entradas: \n",
        "#---- in_file: O arquivo iniciando com o numero de pares a serem formados\n",
        "#Saída:\n",
        "#---- men_list: Um dicionário com a chave sendo os homens \n",
        "#-------------- e suas respectivas mulheres se encontram no campo \"status\"\n",
        "#------------------------------------------------------------------------------------#\n",
        "\n",
        "def do_test():\n",
        "  #Lê a quantidade de pares a se formar\n",
        "  qt_cases = int(input())\n",
        "\n",
        "  #Cria os dicionários em que a chave é cada mulher ou cada homem e o valor é sua lista de preferência e\n",
        "  # um status'single' que posteriormente sera substituido pelo nome do parceiro\n",
        "\n",
        "  women_list = {i+1:{'list': [j for j in input().split()[1:]], 'status':'single'} for i in range (0, qt_cases)}\n",
        "  men_list = {i+1:{'list': [j for j in input().split()[1:]], 'status':'single'} for i in range (0, qt_cases)}\n",
        "\n",
        "\n",
        "  #Coloca todos os homens na lista de solteiros\n",
        "  single_men = list(men_list.keys())\n",
        "\n",
        "  #Inicia o loop que vai durar enquanto houver homens na lista de solteiros\n",
        "  while len(single_men)>0:\n",
        "    #Lê o primeiro homem da lista\n",
        "    man = int(single_men[0])\n",
        "    #Retira a primeira mulher da lista de preferências do homem lido\n",
        "    woman = int(men_list[man]['list'].pop(0))\n",
        "\n",
        "    #Se a mulher estiver solteira, chama a função de casamento e retira o homem da lista de solteiros\n",
        "    if women_list[woman]['status'] == 'single':\n",
        "      marry(women_list, men_list, man=man, woman=woman)\n",
        "      single_men.pop(0)\n",
        "\n",
        "    #Se a mulher não estiver solteira, confere se o homem está melhor rankeado na lista dela do que o marido\n",
        "    elif women_list[woman]['list'].index(str(man)) < women_list[woman]['list'].index(str(women_list[woman]['status'])):\n",
        "      single_men.append(women_list[woman]['status'])\n",
        "      men_list[women_list[woman]['status']]['status'] = 'single'\n",
        "\n",
        "      #Chama a funcção de casamento e retira o homem da lista de solteiros\n",
        "      marry(women_list, men_list, man=man, woman=woman)\n",
        "      single_men.pop(0)\n",
        "  \n",
        "  #Retorna o dicionário de homens criado\n",
        "  return men_list"
      ],
      "execution_count": null,
      "outputs": []
    },
    {
      "cell_type": "code",
      "metadata": {
        "id": "U-Pq9NOOC61J"
      },
      "source": [
        "#------------------------------------------------------------------------------------#\n",
        "#Função criada para printar os pares criados\n",
        "#Entradas: \n",
        "#---- men_list: O dicionário de homens gerado após o casamento estável\n",
        "#Saída:\n",
        "#---- Não há saídas, apenas printa os pares no formato pedido\n",
        "#------------------------------------------------------------------------------------#\n",
        "\n",
        "def print_pairs(men_list):\n",
        "  #Itera cada homem que há no dicionário\n",
        "  for key in men_list.keys():\n",
        "    #Printa cada homem e a mulher que consta no seu status\n",
        "    print(key, men_list[key]['status'])"
      ],
      "execution_count": null,
      "outputs": []
    },
    {
      "cell_type": "code",
      "metadata": {
        "colab": {
          "base_uri": "https://localhost:8080/"
        },
        "id": "9K1RuT1j7riD",
        "outputId": "0a411966-adfe-494e-d199-160652c6ac60"
      },
      "source": [
        "#------------------------------------------------------------------------------------#\n",
        "#Roda o programa\n",
        "#------------------------------------------------------------------------------------#\n",
        "qt_tests = int(input())\n",
        "\n",
        "#Itera o laço enquanto houverem testes a se fazer\n",
        "for i in range(0, qt_tests):\n",
        "  #Chama a função de printar os resultados da função que realiza o casamento estável para cada teste\n",
        "  print_pairs(do_test())\n"
      ],
      "execution_count": null,
      "outputs": [
        {
          "output_type": "stream",
          "text": [
            "1\n",
            "4\n",
            "1 4 3 1 2\n",
            "2 2 1 3 4\n",
            "3 1 3 4 2\n",
            "4 4 3 1 2\n",
            "1 3 2 4 1\n",
            "2 2 3 1 4\n",
            "3 3 1 2 4\n",
            "4 3 2 4 1\n",
            "1 3\n",
            "2 2\n",
            "3 1\n",
            "4 4\n"
          ],
          "name": "stdout"
        }
      ]
    }
  ]
}