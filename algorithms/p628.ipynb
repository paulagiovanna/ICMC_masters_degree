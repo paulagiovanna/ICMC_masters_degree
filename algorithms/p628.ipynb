{
  "nbformat": 4,
  "nbformat_minor": 0,
  "metadata": {
    "colab": {
      "name": "p628.ipynb",
      "provenance": [],
      "collapsed_sections": []
    },
    "kernelspec": {
      "name": "python3",
      "display_name": "Python 3"
    },
    "language_info": {
      "name": "python"
    }
  },
  "cells": [
    {
      "cell_type": "code",
      "metadata": {
        "id": "hd_azg1Pai0x"
      },
      "source": [
        "def backtracking(rule, password=''):\n",
        "  global words\n",
        "\n",
        "  if rule!='': \n",
        "    if rule[0] == '0':\n",
        "      new_passwords = []\n",
        "      for seq in range(0,10):\n",
        "        new_password = password+str(seq)\n",
        "        new_passwords.append(new_password)\n",
        "        backtracking(rule[1:], password=new_password)\n",
        "    else: \n",
        "      for word in words:\n",
        "        new_password = password+word\n",
        "        backtracking(rule[1:],  password=new_password)\n",
        "    \n",
        "  else:\n",
        "    print(password)"
      ],
      "execution_count": 1,
      "outputs": []
    },
    {
      "cell_type": "code",
      "metadata": {
        "colab": {
          "base_uri": "https://localhost:8080/"
        },
        "id": "S-ZQJf9lUH3S",
        "outputId": "961056eb-7290-4eab-e602-5add30868744"
      },
      "source": [
        "#Recebe as palavras do dicionário e as regras a serem usadas\n",
        "words = [input() for i in range(0, int(input()))]\n",
        "rules = [input() for i in range(0, int(input()))]\n",
        "print('--')\n",
        "\n",
        "for rule in rules:\n",
        "  backtracking(rule)"
      ],
      "execution_count": 2,
      "outputs": [
        {
          "output_type": "stream",
          "text": [
            "2\n",
            "root\n",
            "2super\n",
            "1\n",
            "#0\n",
            "--\n",
            "root0\n",
            "root1\n",
            "root2\n",
            "root3\n",
            "root4\n",
            "root5\n",
            "root6\n",
            "root7\n",
            "root8\n",
            "root9\n",
            "2super0\n",
            "2super1\n",
            "2super2\n",
            "2super3\n",
            "2super4\n",
            "2super5\n",
            "2super6\n",
            "2super7\n",
            "2super8\n",
            "2super9\n"
          ],
          "name": "stdout"
        }
      ]
    }
  ]
}