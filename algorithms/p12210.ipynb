{
  "nbformat": 4,
  "nbformat_minor": 0,
  "metadata": {
    "colab": {
      "name": "bachelors_spinsters.ipynb",
      "provenance": []
    },
    "kernelspec": {
      "name": "python3",
      "display_name": "Python 3"
    },
    "language_info": {
      "name": "python"
    }
  },
  "cells": [
    {
      "cell_type": "code",
      "metadata": {
        "id": "0RMKTnKDNAEs",
        "colab": {
          "base_uri": "https://localhost:8080/"
        },
        "outputId": "a87080db-2376-4a68-e36b-c87ce7f9e6f6"
      },
      "source": [
        "# Contabiliza os casos para pode-los printar corretamente\n",
        "num_case = 1\n",
        "\n",
        "#Pega a primeira linha do caso\n",
        "begin = [int(x) for x in input().split()]\n",
        "\n",
        "while begin[0]!=0 or begin[1]!=0:\n",
        "  #Separa a entrada\n",
        "  n_bachelors = begin[0]\n",
        "  n_spinsters = begin[1]\n",
        "\n",
        "  #Organiza os vetores de idade e os ordena\n",
        "  bachelors_age = [int(input()) for i in range(0, n_bachelors)]\n",
        "  bachelors_age.sort(reverse=True)\n",
        "  spinsters_age = [int(input()) for i in range(0, n_spinsters)]\n",
        "  spinsters_age.sort(reverse=True)\n",
        "\n",
        "  #Contador a ser usado mais tarde para ver se sobrou alguem\n",
        "  bachelors_removed = 0\n",
        "\n",
        "  #Pega cada bachelor da lista\n",
        "  for bachelor in bachelors_age:\n",
        "    if len(spinsters_age)>0:\n",
        "      #Inicializa a variável de diferença de idade com infinito    \n",
        "      min_dif = float('inf')\n",
        "      #Pega cada Spinster da lista e compara se a idade é menor do que a minima registrada\n",
        "      #Caso seja guarda a nova minima e a spinster \n",
        "      for spinster in spinsters_age:\n",
        "        if abs(bachelor - spinster) < min_dif:\n",
        "          min_dif = abs(bachelor - spinster)\n",
        "          chosen_spinster = spinster \n",
        "      #Remove a spinster escolhida e adiciona um na lista de controle dos bachelors\n",
        "      spinsters_age.remove(chosen_spinster)\n",
        "      bachelors_removed += 1\n",
        "    else:\n",
        "      break\n",
        "\n",
        "  #Printa a saida de acordo com o solicitado\n",
        "  if len(bachelors_age)==bachelors_removed:\n",
        "    print('Case '+str(num_case)+': 0')\n",
        "  else:\n",
        "    print('Case '+str(num_case)+': '+str(len(bachelors_age)-bachelors_removed)+' '+str(min(bachelors_age)))\n",
        "\n",
        "  #Reinicia para um possivel novo caso\n",
        "  num_case += 1\n",
        "  begin = [int(x) for x in input().split()]"
      ],
      "execution_count": null,
      "outputs": [
        {
          "output_type": "stream",
          "text": [
            "4 4\n",
            "26\n",
            "25\n",
            "2\n",
            "21\n",
            "35\n",
            "25\n",
            "23\n",
            "24\n",
            "Case 1: 0\n",
            "1 2\n",
            "20\n",
            "30\n",
            "40\n",
            "Case 2: 0\n",
            "4 2\n",
            "5\n",
            "5\n",
            "10\n",
            "15\n",
            "20\n",
            "18\n",
            "Case 3: 25\n",
            "0 0\n"
          ],
          "name": "stdout"
        }
      ]
    }
  ]
}